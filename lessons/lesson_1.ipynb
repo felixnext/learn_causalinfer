{
 "cells": [
  {
   "cell_type": "markdown",
   "metadata": {},
   "source": [
    "# Causal Inference Lesson 1\n",
    "\n",
    "This provides the first lesson and follows the tutorial on the [DoWhy Website](https://microsoft.github.io/dowhy/)\n",
    "\n",
    "There is also an [open-source book with code and tutorials](http://causalinference.gitlab.io/) accompanying the DoWhy framework."
   ]
  },
  {
   "cell_type": "code",
   "execution_count": 1,
   "metadata": {},
   "outputs": [],
   "source": [
    "# import all relevant libs\n",
    "import pandas as pd\n",
    "import numpy as np\n",
    "from dowhy import CausalModel\n",
    "\n",
    "# import helper libs\n",
    "from matplotlib import pyplot as plt\n",
    "import seaborn as sns"
   ]
  },
  {
   "cell_type": "markdown",
   "metadata": {},
   "source": [
    "## Step 1: Simple Causal Inference Analysis\n",
    "\n",
    "This will load a dataset, display it and outline the causal implications:"
   ]
  },
  {
   "cell_type": "code",
   "execution_count": null,
   "metadata": {},
   "outputs": [],
   "source": [
    "# load some sample data\n",
    "\n",
    "# display the data"
   ]
  }
 ],
 "metadata": {
  "interpreter": {
   "hash": "70022bec95902ecd832720690d788c236a7d59e0991a26e4578ed13a16146476"
  },
  "kernelspec": {
   "display_name": "Python 3.8.11 64-bit ('causal_inference': conda)",
   "name": "python3"
  },
  "language_info": {
   "codemirror_mode": {
    "name": "ipython",
    "version": 3
   },
   "file_extension": ".py",
   "mimetype": "text/x-python",
   "name": "python",
   "nbconvert_exporter": "python",
   "pygments_lexer": "ipython3",
   "version": "3.8.11"
  },
  "orig_nbformat": 4
 },
 "nbformat": 4,
 "nbformat_minor": 2
}
